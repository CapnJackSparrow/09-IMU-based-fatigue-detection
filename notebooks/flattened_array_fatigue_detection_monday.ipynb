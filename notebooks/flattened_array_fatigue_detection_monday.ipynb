{
 "cells": [
  {
   "cell_type": "code",
   "execution_count": 1,
   "id": "9cbcf3fb-04da-4b43-9739-7a4e8a082163",
   "metadata": {},
   "outputs": [],
   "source": [
    "import seaborn as sns\n",
    "import pandas as pd\n",
    "import numpy as np\n",
    "\n",
    "import matplotlib.pyplot as plt\n",
    "\n",
    "from scipy.signal import square, stft\n",
    "\n",
    "from scipy.signal.windows import gaussian\n"
   ]
  },
  {
   "cell_type": "code",
   "execution_count": 2,
   "id": "934b3fcc-80e8-4a2a-9ae7-c805c9e6e9d5",
   "metadata": {},
   "outputs": [],
   "source": [
    "from sklearn.model_selection import cross_validate\n",
    "from sklearn.model_selection import train_test_split"
   ]
  },
  {
   "cell_type": "code",
   "execution_count": 3,
   "id": "375b904c-0ee3-4477-8aba-64b6fd4250b7",
   "metadata": {},
   "outputs": [],
   "source": [
    "from sklearn.pipeline import Pipeline\n",
    "from sklearn.impute import SimpleImputer\n",
    "from sklearn.preprocessing import StandardScaler "
   ]
  },
  {
   "cell_type": "code",
   "execution_count": 4,
   "id": "eb55ff1c-f3cf-402c-9486-eb17ab4f771b",
   "metadata": {},
   "outputs": [],
   "source": [
    "from src.DataLoader import *\n",
    "\n",
    "def load_data(csv_file_path):\n",
    "    \"\"\"\n",
    "    Reads a CSV file, checks if the time vector is equally spaced,\n",
    "    deduces the sampling rate, and resamples the dataset at 32 Hz.\n",
    "    Returns a DataFrame with columns 'Time [s]', 'X_acceleration',\n",
    "    'Y_acceleration', and 'Z_acceleration'.\n",
    "\n",
    "    Args:\n",
    "        csv_file_path (str): Path to the input CSV file.\n",
    "\n",
    "    Returns:\n",
    "        pd.DataFrame: Resampled DataFrame with columns 'X_acceleration',\n",
    "                      'Y_acceleration', 'Z_acceleration', and 'New_Time'.\n",
    "    \"\"\"\n",
    "    # original data sampling rate\n",
    "\n",
    "    orig_sampling_rate = 32 # [Hz]\n",
    "\n",
    "    try:\n",
    "        # Read the CSV file and skip the first row\n",
    "        df = pd.read_csv(csv_file_path, header=None)\n",
    "\n",
    "        # Remove the first row (index 0)\n",
    "        df = df.iloc[1:]\n",
    "\n",
    "        # Rename columns (adjust column names as needed)\n",
    "        column_mapping = {\n",
    "            0: 'Time [s]',\n",
    "            1: 'X_acceleration',\n",
    "            2: 'Y_acceleration',\n",
    "            3: 'Z_acceleration',\n",
    "            4: 'Absolute_acceleration'\n",
    "        }\n",
    "        df.rename(columns=column_mapping, inplace=True)\n",
    "\n",
    "        # Convert all columns to numeric\n",
    "        for col in df.columns:\n",
    "            df[col] = pd.to_numeric(df[col], errors='coerce')\n",
    "\n",
    "        # Compute differences between consecutive time values\n",
    "        time_diff = df['Time [s]'].diff()\n",
    "\n",
    "        # Calculate the mean of time differences\n",
    "        mean_time_diff = round(time_diff.mean(), 3)\n",
    "\n",
    "        # Calculate the sampling rate\n",
    "\n",
    "        sampling_rate = 1 / mean_time_diff\n",
    "\n",
    "        # Create a new column 'New_Time' starting from 0 and incrementing by mean_time_diff\n",
    "        df['New_Time'] = pd.Series(range(len(df))) * mean_time_diff\n",
    "\n",
    "        # Set the index to the 'New_Time' column\n",
    "        df.set_index('New_Time', inplace=True)\n",
    "\n",
    "        # Convert the index to a datetime-like index\n",
    "        df.index = pd.to_timedelta(df.index, unit='s')\n",
    "\n",
    "        # Resample the dataframe to 32 Hz\n",
    "\n",
    "        df = df.resample('31.25ms').mean()\n",
    "\n",
    "        return df[['X_acceleration', 'Y_acceleration', 'Z_acceleration']]\n",
    "\n",
    "    except FileNotFoundError:\n",
    "        print(f\"Error: CSV file '{csv_file_path}' not found.\")\n",
    "        return None"
   ]
  },
  {
   "cell_type": "code",
   "execution_count": 5,
   "id": "954f8390-a81d-47a7-91c9-c247f3cbf3b5",
   "metadata": {},
   "outputs": [],
   "source": [
    "from sklearn.pipeline import make_pipeline"
   ]
  },
  {
   "cell_type": "code",
   "execution_count": 6,
   "id": "17ff8dd7-8b32-4358-a126-e2b84c43be9f",
   "metadata": {},
   "outputs": [],
   "source": [
    "from sklearn.neighbors import KNeighborsClassifier"
   ]
  },
  {
   "cell_type": "code",
   "execution_count": 7,
   "id": "a9ff45f4-9428-4780-9576-c53b332e0b3b",
   "metadata": {},
   "outputs": [],
   "source": [
    "from sklearn.model_selection import cross_val_score"
   ]
  },
  {
   "cell_type": "code",
   "execution_count": 8,
   "id": "94d15028-6abb-4b66-850a-14d0f5cb9836",
   "metadata": {},
   "outputs": [],
   "source": [
    "from sklearn.model_selection import learning_curve"
   ]
  },
  {
   "cell_type": "code",
   "execution_count": 9,
   "id": "5998c234-e6ca-45b8-b3cc-59f1920a543e",
   "metadata": {},
   "outputs": [],
   "source": [
    "from sklearn.model_selection import cross_validate"
   ]
  },
  {
   "cell_type": "code",
   "execution_count": 10,
   "id": "ebdacd88-f893-44ab-becf-3792faffb2bb",
   "metadata": {},
   "outputs": [],
   "source": [
    "from sklearn.metrics import accuracy_score"
   ]
  },
  {
   "cell_type": "code",
   "execution_count": 79,
   "id": "e0f1b689-2fdd-444d-ba2a-758efccea709",
   "metadata": {},
   "outputs": [],
   "source": [
    "from sklearn.pipeline import make_pipeline\n",
    "from sklearn.model_selection import train_test_split\n",
    "from sklearn.metrics import accuracy_score, classification_report\n",
    "from sklearn.linear_model import LogisticRegression\n",
    "from sklearn.tree import DecisionTreeClassifier\n",
    "from sklearn.ensemble import RandomForestClassifier, GradientBoostingClassifier, VotingClassifier\n",
    "from sklearn.neighbors import KNeighborsClassifier\n",
    "from sklearn.neural_network import MLPClassifier"
   ]
  },
  {
   "cell_type": "code",
   "execution_count": 12,
   "id": "1fb53fa2-421b-4a25-a03c-ac81201bad37",
   "metadata": {},
   "outputs": [],
   "source": [
    "import pickle"
   ]
  },
  {
   "cell_type": "code",
   "execution_count": 13,
   "id": "065a4dc4-bf70-4d15-b53e-4a5677693044",
   "metadata": {},
   "outputs": [],
   "source": [
    "from sklearn.model_selection import GridSearchCV\n",
    "from scipy import stats"
   ]
  },
  {
   "cell_type": "code",
   "execution_count": null,
   "id": "394bd211-1897-48ac-ade1-6b57bcd2af6c",
   "metadata": {},
   "outputs": [],
   "source": [
    "subject_ = f's{1}'\n",
    "data_p = DataLoader().load_ACC_data(subject=subject_,event='morning')\n",
    "\n",
    "#data_p = load_data()"
   ]
  },
  {
   "cell_type": "code",
   "execution_count": null,
   "id": "6a4c2543-b76f-42a1-acc2-0c250c40a27a",
   "metadata": {},
   "outputs": [],
   "source": [
    "plt.figure(figsize=(10,5))\n",
    "sns.lineplot(data_p.drop(columns='UNIX_time'))"
   ]
  },
  {
   "cell_type": "code",
   "execution_count": 46,
   "id": "b14fb2f7-7760-4fb7-b5d6-9ba66939abf6",
   "metadata": {},
   "outputs": [],
   "source": [
    "datas_m = []\n",
    "for i in range(1,24):\n",
    "    subject_ = f's{i}'\n",
    "    data = DataLoader().load_ACC_data(subject=subject_,event='morning')\n",
    "    data.drop(columns='UNIX_time',inplace=True)\n",
    "\n",
    "    #new bit, NJ Monday\n",
    "    data = data.reset_index(drop=True)\n",
    "    #divides each df into 90 second chunks\n",
    "    for chunk in range(20):\n",
    "        #adds first 90 second chunk to the output list\n",
    "        chunk_of_90 = data[:2880]\n",
    "        flat_chunk_of_90 = chunk_of_90.to_numpy().flatten()\n",
    "        datas_m.append(flat_chunk_of_90)\n",
    "        #discards first 90 second chunk\n",
    "        data = data.iloc[2880:]\n"
   ]
  },
  {
   "cell_type": "code",
   "execution_count": 40,
   "id": "7620d314-2022-4dfc-89ae-4203f0988c0c",
   "metadata": {},
   "outputs": [],
   "source": [
    "datas_e = []\n",
    "for i in range(1,24):\n",
    "    subject_ = f's{i}'\n",
    "    data = DataLoader().load_ACC_data(subject=subject_,event='evening')\n",
    "    data.drop(columns='UNIX_time',inplace=True)\n",
    "\n",
    "    #new bit, NJ Monday\n",
    "    data = data.reset_index(drop=True)\n",
    "    #divides each df into 90 second chunks\n",
    "    for chunk in range(20):\n",
    "        #adds first 90 second chunk to the output list\n",
    "        chunk_of_90 = data[:2880]\n",
    "        flat_chunk_of_90 = chunk_of_90.to_numpy().flatten()\n",
    "        datas_e.append(flat_chunk_of_90)\n",
    "        #discards first 90 second chunk\n",
    "        data = data.iloc[2880:]"
   ]
  },
  {
   "cell_type": "code",
   "execution_count": 42,
   "id": "efe33295",
   "metadata": {},
   "outputs": [
    {
     "data": {
      "text/plain": [
       "0"
      ]
     },
     "execution_count": 42,
     "metadata": {},
     "output_type": "execute_result"
    }
   ],
   "source": [
    "len(datas_m)"
   ]
  },
  {
   "cell_type": "code",
   "execution_count": 47,
   "id": "76d5ee45",
   "metadata": {},
   "outputs": [
    {
     "data": {
      "text/plain": [
       "(8640,)"
      ]
     },
     "execution_count": 47,
     "metadata": {},
     "output_type": "execute_result"
    }
   ],
   "source": [
    "datas_m[0].shape"
   ]
  },
  {
   "cell_type": "code",
   "execution_count": 45,
   "id": "3a0fdb6d",
   "metadata": {},
   "outputs": [
    {
     "data": {
      "text/plain": [
       "(8640,)"
      ]
     },
     "execution_count": 45,
     "metadata": {},
     "output_type": "execute_result"
    }
   ],
   "source": [
    "datas_e[0].shape"
   ]
  },
  {
   "cell_type": "code",
   "execution_count": 48,
   "id": "1c003528-b629-43c3-bc93-e5b068486a07",
   "metadata": {},
   "outputs": [],
   "source": [
    "array = np.concatenate((datas_m, datas_e), axis=0)"
   ]
  },
  {
   "cell_type": "code",
   "execution_count": 49,
   "id": "937d67ab-1fe5-4abc-bae2-950caa04df00",
   "metadata": {},
   "outputs": [],
   "source": [
    "datas = pd.DataFrame(array)"
   ]
  },
  {
   "cell_type": "code",
   "execution_count": 50,
   "id": "ac141c60-1a10-4ce2-aaff-74248feb4924",
   "metadata": {},
   "outputs": [
    {
     "data": {
      "text/plain": [
       "(920, 8640)"
      ]
     },
     "execution_count": 50,
     "metadata": {},
     "output_type": "execute_result"
    }
   ],
   "source": [
    "datas.shape"
   ]
  },
  {
   "cell_type": "code",
   "execution_count": 51,
   "id": "91e49d2f-47ed-448f-9f4a-24007fe79bf8",
   "metadata": {},
   "outputs": [],
   "source": [
    "def normalization(subject):\n",
    "    num_transformer=make_pipeline(StandardScaler())\n",
    "    num_transformer.fit(subject)\n",
    "    return pd.DataFrame(num_transformer.transform(subject),columns=subject.columns)"
   ]
  },
  {
   "cell_type": "code",
   "execution_count": 52,
   "id": "22f74127-b05a-4679-a1e8-98a10666bf7d",
   "metadata": {
    "scrolled": true
   },
   "outputs": [],
   "source": [
    "df=normalization(datas)"
   ]
  },
  {
   "cell_type": "code",
   "execution_count": 53,
   "id": "e6372532-016f-4219-a6ba-e0c7672d2d09",
   "metadata": {},
   "outputs": [],
   "source": [
    "X = df"
   ]
  },
  {
   "cell_type": "code",
   "execution_count": 54,
   "id": "7567aef3-0426-4753-9841-426ac2c225d9",
   "metadata": {},
   "outputs": [],
   "source": [
    "info = pd.read_excel('data/general_info.xlsx')"
   ]
  },
  {
   "cell_type": "code",
   "execution_count": 55,
   "id": "6daa422c-2501-4d19-9da3-11b5804a578b",
   "metadata": {},
   "outputs": [],
   "source": [
    "sleepy_list = [11, 18, 0, 12, 10, 11, 5, 11, 2, 5, 9, 9, 17, 4, 2, 12, 12, 19, 13, 7, 11, 3, 5, 14, 14, 14, 12, 13, 11, 1, 11, 13, 11, 8, 19, 21, 22, 16, 15, 12, 26, 4, 19, 21, 18, 20]\n",
    "\n",
    "sleepy_df = pd.DataFrame(sleepy_list)"
   ]
  },
  {
   "cell_type": "code",
   "execution_count": 56,
   "id": "b31ac80f-7722-44ae-b966-8fbc0559b0ea",
   "metadata": {},
   "outputs": [],
   "source": [
    "sleepy_df[\"fatigue\"] = sleepy_df[0]\n",
    "\n",
    "sleepy_df = sleepy_df.drop(columns=0)\n",
    "\n",
    "sleepy_df[\"is_tired\"] = 0\n",
    "\n",
    "sleepy_df['is_tired'] = (sleepy_df['fatigue'] > 11).astype(int)"
   ]
  },
  {
   "cell_type": "code",
   "execution_count": 57,
   "id": "d8dede41",
   "metadata": {},
   "outputs": [
    {
     "data": {
      "text/plain": [
       "(920, 2)"
      ]
     },
     "execution_count": 57,
     "metadata": {},
     "output_type": "execute_result"
    }
   ],
   "source": [
    "sleepy_df_20split = pd.DataFrame(np.repeat(sleepy_df.values, 20, axis=0))\n",
    "sleepy_df_20split.columns = sleepy_df.columns\n",
    "sleepy_df_20split.shape"
   ]
  },
  {
   "cell_type": "code",
   "execution_count": 58,
   "id": "ab8adc77-693a-4a8d-a5d6-ef5e1087cae8",
   "metadata": {},
   "outputs": [],
   "source": [
    "y = sleepy_df_20split.is_tired"
   ]
  },
  {
   "cell_type": "code",
   "execution_count": 59,
   "id": "619b2677-c1e2-4095-8c3b-946f130744c0",
   "metadata": {},
   "outputs": [
    {
     "data": {
      "text/plain": [
       "is_tired\n",
       "1    480\n",
       "0    440\n",
       "Name: count, dtype: int64"
      ]
     },
     "execution_count": 59,
     "metadata": {},
     "output_type": "execute_result"
    }
   ],
   "source": [
    "y.value_counts()"
   ]
  },
  {
   "cell_type": "code",
   "execution_count": 62,
   "id": "88877902",
   "metadata": {},
   "outputs": [
    {
     "data": {
      "text/plain": [
       "<Axes: ylabel='is_tired'>"
      ]
     },
     "execution_count": 62,
     "metadata": {},
     "output_type": "execute_result"
    },
    {
     "data": {
      "image/png": "[encoded data removed]",
      "text/plain": [
       "<Figure size 640x480 with 1 Axes>"
      ]
     },
     "metadata": {},
     "output_type": "display_data"
    }
   ],
   "source": [
    "sns.lineplot(sleepy_df['is_tired'])"
   ]
  },
  {
   "cell_type": "code",
   "execution_count": 61,
   "id": "315e1210",
   "metadata": {},
   "outputs": [
    {
     "data": {
      "text/plain": [
       "<Axes: ylabel='is_tired'>"
      ]
     },
     "execution_count": 61,
     "metadata": {},
     "output_type": "execute_result"
    },
    {
     "data": {
      "image/png": "[encoded data removed]",
      "text/plain": [
       "<Figure size 640x480 with 1 Axes>"
      ]
     },
     "metadata": {},
     "output_type": "display_data"
    }
   ],
   "source": [
    "sns.lineplot(y)"
   ]
  },
  {
   "cell_type": "code",
   "execution_count": 63,
   "id": "6d533631-fe73-4917-849b-4b7f97e17f0e",
   "metadata": {},
   "outputs": [],
   "source": [
    "X_train, X_test, y_train, y_test = train_test_split(X, y,\n",
    "                                                    test_size = 0.3,\n",
    "                                                    random_state = 128)"
   ]
  },
  {
   "cell_type": "code",
   "execution_count": 64,
   "id": "07b43ee2-2227-4c98-b6ce-c31922c12af0",
   "metadata": {},
   "outputs": [],
   "source": [
    "def test_classifiers(X_train, y_train, X_test, y_test):\n",
    "    models = {\n",
    "        'MLP Classifier': MLPClassifier(learning_rate=\"invscaling\", hidden_layer_sizes=[4,4]),  ## --> This is your baseline = chance\n",
    "        'Decision Tree': DecisionTreeClassifier(),\n",
    "        #'Logistic Regression': LogisticRegression(),\n",
    "        'Random Forest': RandomForestClassifier(),\n",
    "        'Gradient Boosting': GradientBoostingClassifier(),\n",
    "        'K-Nearest Neighbors': KNeighborsClassifier()\n",
    "        \n",
    "    }\n",
    "\n",
    "    results = {}\n",
    "\n",
    "    for name, model in models.items():\n",
    "        pipe = make_pipeline(model)\n",
    "        pipe.fit(X_train, y_train)\n",
    "        y_pred = pipe.predict(X_test)\n",
    "        \n",
    "        accuracy = accuracy_score(y_test, y_pred)\n",
    "        \n",
    "        report = classification_report(y_test, y_pred)\n",
    "        \n",
    "        results[name] = {\n",
    "            'accuracy': accuracy,\n",
    "            'report': report\n",
    "        }\n",
    "        \n",
    "        print(f\"{name}:\\n\")\n",
    "        print(f\"Accuracy: {accuracy}\\n\")\n",
    "        print(f\"Classification Report:\\n{report}\\n\")\n",
    "        \n",
    "    return results"
   ]
  },
  {
   "cell_type": "code",
   "execution_count": 65,
   "id": "86f2a6ac-2d37-4b4f-b6d4-df04c386c433",
   "metadata": {
    "scrolled": true
   },
   "outputs": [
    {
     "name": "stdout",
     "output_type": "stream",
     "text": [
      "MLP Classifier:\n",
      "\n",
      "Accuracy: 0.5434782608695652\n",
      "\n",
      "Classification Report:\n",
      "              precision    recall  f1-score   support\n",
      "\n",
      "           0       0.50      0.74      0.59       125\n",
      "           1       0.64      0.38      0.48       151\n",
      "\n",
      "    accuracy                           0.54       276\n",
      "   macro avg       0.57      0.56      0.54       276\n",
      "weighted avg       0.57      0.54      0.53       276\n",
      "\n",
      "\n",
      "Decision Tree:\n",
      "\n",
      "Accuracy: 0.5217391304347826\n",
      "\n",
      "Classification Report:\n",
      "              precision    recall  f1-score   support\n",
      "\n",
      "           0       0.47      0.51      0.49       125\n",
      "           1       0.57      0.53      0.55       151\n",
      "\n",
      "    accuracy                           0.52       276\n",
      "   macro avg       0.52      0.52      0.52       276\n",
      "weighted avg       0.53      0.52      0.52       276\n",
      "\n",
      "\n",
      "Random Forest:\n",
      "\n",
      "Accuracy: 0.6123188405797102\n",
      "\n",
      "Classification Report:\n",
      "              precision    recall  f1-score   support\n",
      "\n",
      "           0       0.56      0.63      0.60       125\n",
      "           1       0.66      0.60      0.63       151\n",
      "\n",
      "    accuracy                           0.61       276\n",
      "   macro avg       0.61      0.61      0.61       276\n",
      "weighted avg       0.62      0.61      0.61       276\n",
      "\n",
      "\n",
      "Gradient Boosting:\n",
      "\n",
      "Accuracy: 0.5760869565217391\n",
      "\n",
      "Classification Report:\n",
      "              precision    recall  f1-score   support\n",
      "\n",
      "           0       0.53      0.55      0.54       125\n",
      "           1       0.62      0.60      0.61       151\n",
      "\n",
      "    accuracy                           0.58       276\n",
      "   macro avg       0.57      0.57      0.57       276\n",
      "weighted avg       0.58      0.58      0.58       276\n",
      "\n",
      "\n",
      "K-Nearest Neighbors:\n",
      "\n",
      "Accuracy: 0.5434782608695652\n",
      "\n",
      "Classification Report:\n",
      "              precision    recall  f1-score   support\n",
      "\n",
      "           0       0.50      0.62      0.55       125\n",
      "           1       0.61      0.48      0.53       151\n",
      "\n",
      "    accuracy                           0.54       276\n",
      "   macro avg       0.55      0.55      0.54       276\n",
      "weighted avg       0.56      0.54      0.54       276\n",
      "\n",
      "\n"
     ]
    },
    {
     "data": {
      "text/plain": [
       "{'MLP Classifier': {'accuracy': 0.5434782608695652,\n",
       "  'report': '              precision    recall  f1-score   support\\n\\n           0       0.50      0.74      0.59       125\\n           1       0.64      0.38      0.48       151\\n\\n    accuracy                           0.54       276\\n   macro avg       0.57      0.56      0.54       276\\nweighted avg       0.57      0.54      0.53       276\\n'},\n",
       " 'Decision Tree': {'accuracy': 0.5217391304347826,\n",
       "  'report': '              precision    recall  f1-score   support\\n\\n           0       0.47      0.51      0.49       125\\n           1       0.57      0.53      0.55       151\\n\\n    accuracy                           0.52       276\\n   macro avg       0.52      0.52      0.52       276\\nweighted avg       0.53      0.52      0.52       276\\n'},\n",
       " 'Random Forest': {'accuracy': 0.6123188405797102,\n",
       "  'report': '              precision    recall  f1-score   support\\n\\n           0       0.56      0.63      0.60       125\\n           1       0.66      0.60      0.63       151\\n\\n    accuracy                           0.61       276\\n   macro avg       0.61      0.61      0.61       276\\nweighted avg       0.62      0.61      0.61       276\\n'},\n",
       " 'Gradient Boosting': {'accuracy': 0.5760869565217391,\n",
       "  'report': '              precision    recall  f1-score   support\\n\\n           0       0.53      0.55      0.54       125\\n           1       0.62      0.60      0.61       151\\n\\n    accuracy                           0.58       276\\n   macro avg       0.57      0.57      0.57       276\\nweighted avg       0.58      0.58      0.58       276\\n'},\n",
       " 'K-Nearest Neighbors': {'accuracy': 0.5434782608695652,\n",
       "  'report': '              precision    recall  f1-score   support\\n\\n           0       0.50      0.62      0.55       125\\n           1       0.61      0.48      0.53       151\\n\\n    accuracy                           0.54       276\\n   macro avg       0.55      0.55      0.54       276\\nweighted avg       0.56      0.54      0.54       276\\n'}}"
      ]
     },
     "execution_count": 65,
     "metadata": {},
     "output_type": "execute_result"
    }
   ],
   "source": [
    "test_classifiers(X_train, y_train, X_test, y_test)"
   ]
  },
  {
   "cell_type": "code",
   "execution_count": 91,
   "id": "62d665d9",
   "metadata": {},
   "outputs": [
    {
     "data": {
      "text/plain": [
       "0.6086956521739131"
      ]
     },
     "execution_count": 91,
     "metadata": {},
     "output_type": "execute_result"
    }
   ],
   "source": [
    "voting_clf = VotingClassifier(\n",
    "    estimators=[\n",
    "        ('rf', RandomForestClassifier()),\n",
    "        ('mlp', MLPClassifier(learning_rate=\"invscaling\", hidden_layer_sizes=[3,3,3])),\n",
    "        ('gb', GradientBoostingClassifier())]\n",
    ")\n",
    "\n",
    "voting_clf.voting = \"soft\"\n",
    "voting_clf.fit(X_train, y_train)\n",
    "voting_clf.score(X_test, y_test)"
   ]
  },
  {
   "cell_type": "code",
   "execution_count": 68,
   "id": "7af3c12c-35f1-4cc9-9700-ee76a85348fb",
   "metadata": {},
   "outputs": [],
   "source": [
    "model = MLPClassifier(shuffle=True)"
   ]
  },
  {
   "cell_type": "code",
   "execution_count": 80,
   "id": "f236408c-a008-4f46-87b9-c3f6bef8da55",
   "metadata": {},
   "outputs": [],
   "source": [
    "param_grid = {\n",
    "    'learning_rate': ['invscaling', 'adaptive'],\n",
    "    #'subsample': [0.8, 0.9, 1.0]\n",
    "    'hidden_layer_sizes' :[[3,3,3], [4,4], [5,5], [10,10], [20,10,5], [40,20,10]]   \n",
    "}"
   ]
  },
  {
   "cell_type": "code",
   "execution_count": 81,
   "id": "422f36eb-c181-4689-bea1-5cf890d4dc87",
   "metadata": {},
   "outputs": [],
   "source": [
    "grid_search = GridSearchCV(estimator=model, \n",
    "                           param_grid=param_grid, \n",
    "                           cv=3, \n",
    "                           n_jobs=-1, \n",
    "                           verbose=2\n",
    "             )"
   ]
  },
  {
   "cell_type": "code",
   "execution_count": 82,
   "id": "782beac0-0bdc-443b-957b-17f8185599a4",
   "metadata": {
    "scrolled": true
   },
   "outputs": [
    {
     "name": "stdout",
     "output_type": "stream",
     "text": [
      "Fitting 3 folds for each of 12 candidates, totalling 36 fits\n",
      "[CV] END hidden_layer_sizes=[4, 4], learning_rate=invscaling; total time=   3.9s\n",
      "[CV] END hidden_layer_sizes=[3, 3, 3], learning_rate=invscaling; total time=   5.0s\n",
      "[CV] END hidden_layer_sizes=[4, 4], learning_rate=invscaling; total time=   5.2s\n"
     ]
    },
    {
     "name": "stderr",
     "output_type": "stream",
     "text": [
      "/Users/grozz/.pyenv/versions/3.10.6/envs/walkies/lib/python3.10/site-packages/sklearn/neural_network/_multilayer_perceptron.py:691: ConvergenceWarning: Stochastic Optimizer: Maximum iterations (200) reached and the optimization hasn't converged yet.\n",
      "  warnings.warn(\n"
     ]
    },
    {
     "name": "stdout",
     "output_type": "stream",
     "text": [
      "[CV] END hidden_layer_sizes=[4, 4], learning_rate=invscaling; total time=  10.1s\n",
      "[CV] END hidden_layer_sizes=[3, 3, 3], learning_rate=invscaling; total time=  10.4s\n"
     ]
    },
    {
     "name": "stderr",
     "output_type": "stream",
     "text": [
      "/Users/grozz/.pyenv/versions/3.10.6/envs/walkies/lib/python3.10/site-packages/sklearn/neural_network/_multilayer_perceptron.py:691: ConvergenceWarning: Stochastic Optimizer: Maximum iterations (200) reached and the optimization hasn't converged yet.\n",
      "  warnings.warn(\n",
      "/Users/grozz/.pyenv/versions/3.10.6/envs/walkies/lib/python3.10/site-packages/sklearn/neural_network/_multilayer_perceptron.py:691: ConvergenceWarning: Stochastic Optimizer: Maximum iterations (200) reached and the optimization hasn't converged yet.\n",
      "  warnings.warn(\n",
      "/Users/grozz/.pyenv/versions/3.10.6/envs/walkies/lib/python3.10/site-packages/sklearn/neural_network/_multilayer_perceptron.py:691: ConvergenceWarning: Stochastic Optimizer: Maximum iterations (200) reached and the optimization hasn't converged yet.\n",
      "  warnings.warn(\n"
     ]
    },
    {
     "name": "stdout",
     "output_type": "stream",
     "text": [
      "[CV] END hidden_layer_sizes=[3, 3, 3], learning_rate=invscaling; total time=  11.1s\n",
      "[CV] END hidden_layer_sizes=[3, 3, 3], learning_rate=adaptive; total time=  11.1s\n",
      "[CV] END ..hidden_layer_sizes=[4, 4], learning_rate=adaptive; total time=   6.2s\n",
      "[CV] END hidden_layer_sizes=[3, 3, 3], learning_rate=adaptive; total time=  11.3s\n"
     ]
    },
    {
     "name": "stderr",
     "output_type": "stream",
     "text": [
      "/Users/grozz/.pyenv/versions/3.10.6/envs/walkies/lib/python3.10/site-packages/sklearn/neural_network/_multilayer_perceptron.py:691: ConvergenceWarning: Stochastic Optimizer: Maximum iterations (200) reached and the optimization hasn't converged yet.\n",
      "  warnings.warn(\n"
     ]
    },
    {
     "name": "stdout",
     "output_type": "stream",
     "text": [
      "[CV] END hidden_layer_sizes=[3, 3, 3], learning_rate=adaptive; total time=  11.3s\n",
      "[CV] END hidden_layer_sizes=[5, 5], learning_rate=invscaling; total time=   4.2s\n",
      "[CV] END ..hidden_layer_sizes=[4, 4], learning_rate=adaptive; total time=   5.8s\n",
      "[CV] END ..hidden_layer_sizes=[4, 4], learning_rate=adaptive; total time=   7.1s\n",
      "[CV] END ..hidden_layer_sizes=[5, 5], learning_rate=adaptive; total time=   7.5s\n",
      "[CV] END hidden_layer_sizes=[5, 5], learning_rate=invscaling; total time=   9.7s\n",
      "[CV] END ..hidden_layer_sizes=[5, 5], learning_rate=adaptive; total time=  10.0s\n",
      "[CV] END hidden_layer_sizes=[10, 10], learning_rate=invscaling; total time=   6.5s\n",
      "[CV] END ..hidden_layer_sizes=[5, 5], learning_rate=adaptive; total time=  11.1s\n",
      "[CV] END hidden_layer_sizes=[10, 10], learning_rate=invscaling; total time=   7.0s\n"
     ]
    },
    {
     "name": "stderr",
     "output_type": "stream",
     "text": [
      "/Users/grozz/.pyenv/versions/3.10.6/envs/walkies/lib/python3.10/site-packages/sklearn/neural_network/_multilayer_perceptron.py:691: ConvergenceWarning: Stochastic Optimizer: Maximum iterations (200) reached and the optimization hasn't converged yet.\n",
      "  warnings.warn(\n"
     ]
    },
    {
     "name": "stdout",
     "output_type": "stream",
     "text": [
      "[CV] END hidden_layer_sizes=[5, 5], learning_rate=invscaling; total time=  14.1s\n",
      "[CV] END hidden_layer_sizes=[20, 10, 5], learning_rate=invscaling; total time=   8.0s\n",
      "[CV] END hidden_layer_sizes=[10, 10], learning_rate=adaptive; total time=  12.0s\n",
      "[CV] END hidden_layer_sizes=[10, 10], learning_rate=adaptive; total time=  12.2s\n"
     ]
    },
    {
     "name": "stderr",
     "output_type": "stream",
     "text": [
      "/Users/grozz/.pyenv/versions/3.10.6/envs/walkies/lib/python3.10/site-packages/sklearn/neural_network/_multilayer_perceptron.py:691: ConvergenceWarning: Stochastic Optimizer: Maximum iterations (200) reached and the optimization hasn't converged yet.\n",
      "  warnings.warn(\n"
     ]
    },
    {
     "name": "stdout",
     "output_type": "stream",
     "text": [
      "[CV] END hidden_layer_sizes=[10, 10], learning_rate=invscaling; total time=  17.4s\n",
      "[CV] END hidden_layer_sizes=[10, 10], learning_rate=adaptive; total time=  14.0s\n",
      "[CV] END hidden_layer_sizes=[20, 10, 5], learning_rate=invscaling; total time=  15.7s\n",
      "[CV] END hidden_layer_sizes=[20, 10, 5], learning_rate=adaptive; total time=  13.8s\n",
      "[CV] END hidden_layer_sizes=[20, 10, 5], learning_rate=invscaling; total time=  15.4s\n",
      "[CV] END hidden_layer_sizes=[20, 10, 5], learning_rate=adaptive; total time=  13.1s\n",
      "[CV] END hidden_layer_sizes=[20, 10, 5], learning_rate=adaptive; total time=  13.9s\n",
      "[CV] END hidden_layer_sizes=[40, 20, 10], learning_rate=adaptive; total time=  10.1s\n",
      "[CV] END hidden_layer_sizes=[40, 20, 10], learning_rate=invscaling; total time=  16.4s\n",
      "[CV] END hidden_layer_sizes=[40, 20, 10], learning_rate=invscaling; total time=  15.1s\n",
      "[CV] END hidden_layer_sizes=[40, 20, 10], learning_rate=adaptive; total time=  13.2s\n",
      "[CV] END hidden_layer_sizes=[40, 20, 10], learning_rate=invscaling; total time=  19.4s\n",
      "[CV] END hidden_layer_sizes=[40, 20, 10], learning_rate=adaptive; total time=  15.0s\n"
     ]
    }
   ],
   "source": [
    "search = grid_search.fit(X_train, y_train)"
   ]
  },
  {
   "cell_type": "code",
   "execution_count": 83,
   "id": "0345b40d-30ae-43c3-a09d-57fab90acd9a",
   "metadata": {},
   "outputs": [
    {
     "data": {
      "text/plain": [
       "{'hidden_layer_sizes': [5, 5], 'learning_rate': 'adaptive'}"
      ]
     },
     "execution_count": 83,
     "metadata": {},
     "output_type": "execute_result"
    }
   ],
   "source": [
    "search.best_params_"
   ]
  },
  {
   "cell_type": "code",
   "execution_count": 84,
   "id": "663ffd7b-1a1e-4d94-bde2-e33143444c01",
   "metadata": {},
   "outputs": [],
   "source": [
    "mlp_model = MLPClassifier(learning_rate=\"invscaling\", hidden_layer_sizes=[5,5])"
   ]
  },
  {
   "cell_type": "code",
   "execution_count": 85,
   "id": "c87b33c8-b7e9-4125-9230-0c1f2166562d",
   "metadata": {},
   "outputs": [
    {
     "data": {
      "text/html": [
       "<style>#sk-container-id-2 {\n",
       "  /* Definition of color scheme common for light and dark mode */\n",
       "  --sklearn-color-text: black;\n",
       "  --sklearn-color-line: gray;\n",
       "  /* Definition of color scheme for unfitted estimators */\n",
       "  --sklearn-color-unfitted-level-0: #fff5e6;\n",
       "  --sklearn-color-unfitted-level-1: #f6e4d2;\n",
       "  --sklearn-color-unfitted-level-2: #ffe0b3;\n",
       "  --sklearn-color-unfitted-level-3: chocolate;\n",
       "  /* Definition of color scheme for fitted estimators */\n",
       "  --sklearn-color-fitted-level-0: #f0f8ff;\n",
       "  --sklearn-color-fitted-level-1: #d4ebff;\n",
       "  --sklearn-color-fitted-level-2: #b3dbfd;\n",
       "  --sklearn-color-fitted-level-3: cornflowerblue;\n",
       "\n",
       "  /* Specific color for light theme */\n",
       "  --sklearn-color-text-on-default-background: var(--sg-text-color, var(--theme-code-foreground, var(--jp-content-font-color1, black)));\n",
       "  --sklearn-color-background: var(--sg-background-color, var(--theme-background, var(--jp-layout-color0, white)));\n",
       "  --sklearn-color-border-box: var(--sg-text-color, var(--theme-code-foreground, var(--jp-content-font-color1, black)));\n",
       "  --sklearn-color-icon: #696969;\n",
       "\n",
       "  @media (prefers-color-scheme: dark) {\n",
       "    /* Redefinition of color scheme for dark theme */\n",
       "    --sklearn-color-text-on-default-background: var(--sg-text-color, var(--theme-code-foreground, var(--jp-content-font-color1, white)));\n",
       "    --sklearn-color-background: var(--sg-background-color, var(--theme-background, var(--jp-layout-color0, #111)));\n",
       "    --sklearn-color-border-box: var(--sg-text-color, var(--theme-code-foreground, var(--jp-content-font-color1, white)));\n",
       "    --sklearn-color-icon: #878787;\n",
       "  }\n",
       "}\n",
       "\n",
       "#sk-container-id-2 {\n",
       "  color: var(--sklearn-color-text);\n",
       "}\n",
       "\n",
       "#sk-container-id-2 pre {\n",
       "  padding: 0;\n",
       "}\n",
       "\n",
       "#sk-container-id-2 input.sk-hidden--visually {\n",
       "  border: 0;\n",
       "  clip: rect(1px 1px 1px 1px);\n",
       "  clip: rect(1px, 1px, 1px, 1px);\n",
       "  height: 1px;\n",
       "  margin: -1px;\n",
       "  overflow: hidden;\n",
       "  padding: 0;\n",
       "  position: absolute;\n",
       "  width: 1px;\n",
       "}\n",
       "\n",
       "#sk-container-id-2 div.sk-dashed-wrapped {\n",
       "  border: 1px dashed var(--sklearn-color-line);\n",
       "  margin: 0 0.4em 0.5em 0.4em;\n",
       "  box-sizing: border-box;\n",
       "  padding-bottom: 0.4em;\n",
       "  background-color: var(--sklearn-color-background);\n",
       "}\n",
       "\n",
       "#sk-container-id-2 div.sk-container {\n",
       "  /* jupyter's `normalize.less` sets `[hidden] { display: none; }`\n",
       "     but bootstrap.min.css set `[hidden] { display: none !important; }`\n",
       "     so we also need the `!important` here to be able to override the\n",
       "     default hidden behavior on the sphinx rendered scikit-learn.org.\n",
       "     See: https://github.com/scikit-learn/scikit-learn/issues/21755 */\n",
       "  display: inline-block !important;\n",
       "  position: relative;\n",
       "}\n",
       "\n",
       "#sk-container-id-2 div.sk-text-repr-fallback {\n",
       "  display: none;\n",
       "}\n",
       "\n",
       "div.sk-parallel-item,\n",
       "div.sk-serial,\n",
       "div.sk-item {\n",
       "  /* draw centered vertical line to link estimators */\n",
       "  background-image: linear-gradient(var(--sklearn-color-text-on-default-background), var(--sklearn-color-text-on-default-background));\n",
       "  background-size: 2px 100%;\n",
       "  background-repeat: no-repeat;\n",
       "  background-position: center center;\n",
       "}\n",
       "\n",
       "/* Parallel-specific style estimator block */\n",
       "\n",
       "#sk-container-id-2 div.sk-parallel-item::after {\n",
       "  content: \"\";\n",
       "  width: 100%;\n",
       "  border-bottom: 2px solid var(--sklearn-color-text-on-default-background);\n",
       "  flex-grow: 1;\n",
       "}\n",
       "\n",
       "#sk-container-id-2 div.sk-parallel {\n",
       "  display: flex;\n",
       "  align-items: stretch;\n",
       "  justify-content: center;\n",
       "  background-color: var(--sklearn-color-background);\n",
       "  position: relative;\n",
       "}\n",
       "\n",
       "#sk-container-id-2 div.sk-parallel-item {\n",
       "  display: flex;\n",
       "  flex-direction: column;\n",
       "}\n",
       "\n",
       "#sk-container-id-2 div.sk-parallel-item:first-child::after {\n",
       "  align-self: flex-end;\n",
       "  width: 50%;\n",
       "}\n",
       "\n",
       "#sk-container-id-2 div.sk-parallel-item:last-child::after {\n",
       "  align-self: flex-start;\n",
       "  width: 50%;\n",
       "}\n",
       "\n",
       "#sk-container-id-2 div.sk-parallel-item:only-child::after {\n",
       "  width: 0;\n",
       "}\n",
       "\n",
       "/* Serial-specific style estimator block */\n",
       "\n",
       "#sk-container-id-2 div.sk-serial {\n",
       "  display: flex;\n",
       "  flex-direction: column;\n",
       "  align-items: center;\n",
       "  background-color: var(--sklearn-color-background);\n",
       "  padding-right: 1em;\n",
       "  padding-left: 1em;\n",
       "}\n",
       "\n",
       "\n",
       "/* Toggleable style: style used for estimator/Pipeline/ColumnTransformer box that is\n",
       "clickable and can be expanded/collapsed.\n",
       "- Pipeline and ColumnTransformer use this feature and define the default style\n",
       "- Estimators will overwrite some part of the style using the `sk-estimator` class\n",
       "*/\n",
       "\n",
       "/* Pipeline and ColumnTransformer style (default) */\n",
       "\n",
       "#sk-container-id-2 div.sk-toggleable {\n",
       "  /* Default theme specific background. It is overwritten whether we have a\n",
       "  specific estimator or a Pipeline/ColumnTransformer */\n",
       "  background-color: var(--sklearn-color-background);\n",
       "}\n",
       "\n",
       "/* Toggleable label */\n",
       "#sk-container-id-2 label.sk-toggleable__label {\n",
       "  cursor: pointer;\n",
       "  display: block;\n",
       "  width: 100%;\n",
       "  margin-bottom: 0;\n",
       "  padding: 0.5em;\n",
       "  box-sizing: border-box;\n",
       "  text-align: center;\n",
       "}\n",
       "\n",
       "#sk-container-id-2 label.sk-toggleable__label-arrow:before {\n",
       "  /* Arrow on the left of the label */\n",
       "  content: \"▸\";\n",
       "  float: left;\n",
       "  margin-right: 0.25em;\n",
       "  color: var(--sklearn-color-icon);\n",
       "}\n",
       "\n",
       "#sk-container-id-2 label.sk-toggleable__label-arrow:hover:before {\n",
       "  color: var(--sklearn-color-text);\n",
       "}\n",
       "\n",
       "/* Toggleable content - dropdown */\n",
       "\n",
       "#sk-container-id-2 div.sk-toggleable__content {\n",
       "  max-height: 0;\n",
       "  max-width: 0;\n",
       "  overflow: hidden;\n",
       "  text-align: left;\n",
       "  /* unfitted */\n",
       "  background-color: var(--sklearn-color-unfitted-level-0);\n",
       "}\n",
       "\n",
       "#sk-container-id-2 div.sk-toggleable__content.fitted {\n",
       "  /* fitted */\n",
       "  background-color: var(--sklearn-color-fitted-level-0);\n",
       "}\n",
       "\n",
       "#sk-container-id-2 div.sk-toggleable__content pre {\n",
       "  margin: 0.2em;\n",
       "  border-radius: 0.25em;\n",
       "  color: var(--sklearn-color-text);\n",
       "  /* unfitted */\n",
       "  background-color: var(--sklearn-color-unfitted-level-0);\n",
       "}\n",
       "\n",
       "#sk-container-id-2 div.sk-toggleable__content.fitted pre {\n",
       "  /* unfitted */\n",
       "  background-color: var(--sklearn-color-fitted-level-0);\n",
       "}\n",
       "\n",
       "#sk-container-id-2 input.sk-toggleable__control:checked~div.sk-toggleable__content {\n",
       "  /* Expand drop-down */\n",
       "  max-height: 200px;\n",
       "  max-width: 100%;\n",
       "  overflow: auto;\n",
       "}\n",
       "\n",
       "#sk-container-id-2 input.sk-toggleable__control:checked~label.sk-toggleable__label-arrow:before {\n",
       "  content: \"▾\";\n",
       "}\n",
       "\n",
       "/* Pipeline/ColumnTransformer-specific style */\n",
       "\n",
       "#sk-container-id-2 div.sk-label input.sk-toggleable__control:checked~label.sk-toggleable__label {\n",
       "  color: var(--sklearn-color-text);\n",
       "  background-color: var(--sklearn-color-unfitted-level-2);\n",
       "}\n",
       "\n",
       "#sk-container-id-2 div.sk-label.fitted input.sk-toggleable__control:checked~label.sk-toggleable__label {\n",
       "  background-color: var(--sklearn-color-fitted-level-2);\n",
       "}\n",
       "\n",
       "/* Estimator-specific style */\n",
       "\n",
       "/* Colorize estimator box */\n",
       "#sk-container-id-2 div.sk-estimator input.sk-toggleable__control:checked~label.sk-toggleable__label {\n",
       "  /* unfitted */\n",
       "  background-color: var(--sklearn-color-unfitted-level-2);\n",
       "}\n",
       "\n",
       "#sk-container-id-2 div.sk-estimator.fitted input.sk-toggleable__control:checked~label.sk-toggleable__label {\n",
       "  /* fitted */\n",
       "  background-color: var(--sklearn-color-fitted-level-2);\n",
       "}\n",
       "\n",
       "#sk-container-id-2 div.sk-label label.sk-toggleable__label,\n",
       "#sk-container-id-2 div.sk-label label {\n",
       "  /* The background is the default theme color */\n",
       "  color: var(--sklearn-color-text-on-default-background);\n",
       "}\n",
       "\n",
       "/* On hover, darken the color of the background */\n",
       "#sk-container-id-2 div.sk-label:hover label.sk-toggleable__label {\n",
       "  color: var(--sklearn-color-text);\n",
       "  background-color: var(--sklearn-color-unfitted-level-2);\n",
       "}\n",
       "\n",
       "/* Label box, darken color on hover, fitted */\n",
       "#sk-container-id-2 div.sk-label.fitted:hover label.sk-toggleable__label.fitted {\n",
       "  color: var(--sklearn-color-text);\n",
       "  background-color: var(--sklearn-color-fitted-level-2);\n",
       "}\n",
       "\n",
       "/* Estimator label */\n",
       "\n",
       "#sk-container-id-2 div.sk-label label {\n",
       "  font-family: monospace;\n",
       "  font-weight: bold;\n",
       "  display: inline-block;\n",
       "  line-height: 1.2em;\n",
       "}\n",
       "\n",
       "#sk-container-id-2 div.sk-label-container {\n",
       "  text-align: center;\n",
       "}\n",
       "\n",
       "/* Estimator-specific */\n",
       "#sk-container-id-2 div.sk-estimator {\n",
       "  font-family: monospace;\n",
       "  border: 1px dotted var(--sklearn-color-border-box);\n",
       "  border-radius: 0.25em;\n",
       "  box-sizing: border-box;\n",
       "  margin-bottom: 0.5em;\n",
       "  /* unfitted */\n",
       "  background-color: var(--sklearn-color-unfitted-level-0);\n",
       "}\n",
       "\n",
       "#sk-container-id-2 div.sk-estimator.fitted {\n",
       "  /* fitted */\n",
       "  background-color: var(--sklearn-color-fitted-level-0);\n",
       "}\n",
       "\n",
       "/* on hover */\n",
       "#sk-container-id-2 div.sk-estimator:hover {\n",
       "  /* unfitted */\n",
       "  background-color: var(--sklearn-color-unfitted-level-2);\n",
       "}\n",
       "\n",
       "#sk-container-id-2 div.sk-estimator.fitted:hover {\n",
       "  /* fitted */\n",
       "  background-color: var(--sklearn-color-fitted-level-2);\n",
       "}\n",
       "\n",
       "/* Specification for estimator info (e.g. \"i\" and \"?\") */\n",
       "\n",
       "/* Common style for \"i\" and \"?\" */\n",
       "\n",
       ".sk-estimator-doc-link,\n",
       "a:link.sk-estimator-doc-link,\n",
       "a:visited.sk-estimator-doc-link {\n",
       "  float: right;\n",
       "  font-size: smaller;\n",
       "  line-height: 1em;\n",
       "  font-family: monospace;\n",
       "  background-color: var(--sklearn-color-background);\n",
       "  border-radius: 1em;\n",
       "  height: 1em;\n",
       "  width: 1em;\n",
       "  text-decoration: none !important;\n",
       "  margin-left: 1ex;\n",
       "  /* unfitted */\n",
       "  border: var(--sklearn-color-unfitted-level-1) 1pt solid;\n",
       "  color: var(--sklearn-color-unfitted-level-1);\n",
       "}\n",
       "\n",
       ".sk-estimator-doc-link.fitted,\n",
       "a:link.sk-estimator-doc-link.fitted,\n",
       "a:visited.sk-estimator-doc-link.fitted {\n",
       "  /* fitted */\n",
       "  border: var(--sklearn-color-fitted-level-1) 1pt solid;\n",
       "  color: var(--sklearn-color-fitted-level-1);\n",
       "}\n",
       "\n",
       "/* On hover */\n",
       "div.sk-estimator:hover .sk-estimator-doc-link:hover,\n",
       ".sk-estimator-doc-link:hover,\n",
       "div.sk-label-container:hover .sk-estimator-doc-link:hover,\n",
       ".sk-estimator-doc-link:hover {\n",
       "  /* unfitted */\n",
       "  background-color: var(--sklearn-color-unfitted-level-3);\n",
       "  color: var(--sklearn-color-background);\n",
       "  text-decoration: none;\n",
       "}\n",
       "\n",
       "div.sk-estimator.fitted:hover .sk-estimator-doc-link.fitted:hover,\n",
       ".sk-estimator-doc-link.fitted:hover,\n",
       "div.sk-label-container:hover .sk-estimator-doc-link.fitted:hover,\n",
       ".sk-estimator-doc-link.fitted:hover {\n",
       "  /* fitted */\n",
       "  background-color: var(--sklearn-color-fitted-level-3);\n",
       "  color: var(--sklearn-color-background);\n",
       "  text-decoration: none;\n",
       "}\n",
       "\n",
       "/* Span, style for the box shown on hovering the info icon */\n",
       ".sk-estimator-doc-link span {\n",
       "  display: none;\n",
       "  z-index: 9999;\n",
       "  position: relative;\n",
       "  font-weight: normal;\n",
       "  right: .2ex;\n",
       "  padding: .5ex;\n",
       "  margin: .5ex;\n",
       "  width: min-content;\n",
       "  min-width: 20ex;\n",
       "  max-width: 50ex;\n",
       "  color: var(--sklearn-color-text);\n",
       "  box-shadow: 2pt 2pt 4pt #999;\n",
       "  /* unfitted */\n",
       "  background: var(--sklearn-color-unfitted-level-0);\n",
       "  border: .5pt solid var(--sklearn-color-unfitted-level-3);\n",
       "}\n",
       "\n",
       ".sk-estimator-doc-link.fitted span {\n",
       "  /* fitted */\n",
       "  background: var(--sklearn-color-fitted-level-0);\n",
       "  border: var(--sklearn-color-fitted-level-3);\n",
       "}\n",
       "\n",
       ".sk-estimator-doc-link:hover span {\n",
       "  display: block;\n",
       "}\n",
       "\n",
       "/* \"?\"-specific style due to the `<a>` HTML tag */\n",
       "\n",
       "#sk-container-id-2 a.estimator_doc_link {\n",
       "  float: right;\n",
       "  font-size: 1rem;\n",
       "  line-height: 1em;\n",
       "  font-family: monospace;\n",
       "  background-color: var(--sklearn-color-background);\n",
       "  border-radius: 1rem;\n",
       "  height: 1rem;\n",
       "  width: 1rem;\n",
       "  text-decoration: none;\n",
       "  /* unfitted */\n",
       "  color: var(--sklearn-color-unfitted-level-1);\n",
       "  border: var(--sklearn-color-unfitted-level-1) 1pt solid;\n",
       "}\n",
       "\n",
       "#sk-container-id-2 a.estimator_doc_link.fitted {\n",
       "  /* fitted */\n",
       "  border: var(--sklearn-color-fitted-level-1) 1pt solid;\n",
       "  color: var(--sklearn-color-fitted-level-1);\n",
       "}\n",
       "\n",
       "/* On hover */\n",
       "#sk-container-id-2 a.estimator_doc_link:hover {\n",
       "  /* unfitted */\n",
       "  background-color: var(--sklearn-color-unfitted-level-3);\n",
       "  color: var(--sklearn-color-background);\n",
       "  text-decoration: none;\n",
       "}\n",
       "\n",
       "#sk-container-id-2 a.estimator_doc_link.fitted:hover {\n",
       "  /* fitted */\n",
       "  background-color: var(--sklearn-color-fitted-level-3);\n",
       "}\n",
       "</style><div id=\"sk-container-id-2\" class=\"sk-top-container\"><div class=\"sk-text-repr-fallback\"><pre>MLPClassifier(hidden_layer_sizes=[5, 5], learning_rate=&#x27;invscaling&#x27;)</pre><b>In a Jupyter environment, please rerun this cell to show the HTML representation or trust the notebook. <br />On GitHub, the HTML representation is unable to render, please try loading this page with nbviewer.org.</b></div><div class=\"sk-container\" hidden><div class=\"sk-item\"><div class=\"sk-estimator fitted sk-toggleable\"><input class=\"sk-toggleable__control sk-hidden--visually\" id=\"sk-estimator-id-2\" type=\"checkbox\" checked><label for=\"sk-estimator-id-2\" class=\"sk-toggleable__label fitted sk-toggleable__label-arrow fitted\">&nbsp;&nbsp;MLPClassifier<a class=\"sk-estimator-doc-link fitted\" rel=\"noreferrer\" target=\"_blank\" href=\"https://scikit-learn.org/1.4/modules/generated/sklearn.neural_network.MLPClassifier.html\">?<span>Documentation for MLPClassifier</span></a><span class=\"sk-estimator-doc-link fitted\">i<span>Fitted</span></span></label><div class=\"sk-toggleable__content fitted\"><pre>MLPClassifier(hidden_layer_sizes=[5, 5], learning_rate=&#x27;invscaling&#x27;)</pre></div> </div></div></div></div>"
      ],
      "text/plain": [
       "MLPClassifier(hidden_layer_sizes=[5, 5], learning_rate='invscaling')"
      ]
     },
     "execution_count": 85,
     "metadata": {},
     "output_type": "execute_result"
    }
   ],
   "source": [
    "mlp_model.fit(X_train, y_train)"
   ]
  },
  {
   "cell_type": "code",
   "execution_count": 86,
   "id": "90a7ffc5-9e40-48da-aadc-69b300821f75",
   "metadata": {},
   "outputs": [],
   "source": [
    "y_pred = model.predict(X_test)"
   ]
  },
  {
   "cell_type": "code",
   "execution_count": 87,
   "id": "7b8afd5e-c940-447f-a33b-198e1c5fe8d2",
   "metadata": {},
   "outputs": [],
   "source": [
    "accuracy = accuracy_score(y_test, y_pred) "
   ]
  },
  {
   "cell_type": "code",
   "execution_count": 88,
   "id": "2d273202-6090-4cd9-bd3a-6631df0728c2",
   "metadata": {},
   "outputs": [],
   "source": [
    "report = classification_report(y_test, y_pred) "
   ]
  },
  {
   "cell_type": "code",
   "execution_count": 89,
   "id": "cd99448c-8492-4092-bbbd-15f0e1409d5c",
   "metadata": {
    "scrolled": true
   },
   "outputs": [
    {
     "name": "stdout",
     "output_type": "stream",
     "text": [
      "Accuracy: 0.5362318840579711\n",
      "\n",
      "Classification Report:\n",
      "              precision    recall  f1-score   support\n",
      "\n",
      "           0       0.49      0.55      0.52       125\n",
      "           1       0.59      0.52      0.55       151\n",
      "\n",
      "    accuracy                           0.54       276\n",
      "   macro avg       0.54      0.54      0.54       276\n",
      "weighted avg       0.54      0.54      0.54       276\n",
      "\n",
      "\n"
     ]
    }
   ],
   "source": [
    "print(f\"Accuracy: {accuracy}\\n\")\n",
    "print(f\"Classification Report:\\n{report}\\n\")"
   ]
  },
  {
   "cell_type": "markdown",
   "id": "b7b205fd-6297-4170-a685-ebaf5a2a3f07",
   "metadata": {},
   "source": [
    "save the model"
   ]
  },
  {
   "cell_type": "code",
   "execution_count": 92,
   "id": "61a83e32-7059-4526-ab56-dd975f8010e2",
   "metadata": {},
   "outputs": [],
   "source": [
    "# Save the model to a file called 'model.pkl'\n",
    "with open('voting_clf_model.pkl', 'wb') as file:\n",
    "     pickle.dump(model, file)"
   ]
  },
  {
   "cell_type": "code",
   "execution_count": null,
   "id": "b7d89ffc-cb29-4dea-bcf8-125bb57b5598",
   "metadata": {},
   "outputs": [],
   "source": []
  }
 ],
 "metadata": {
  "kernelspec": {
   "display_name": "Python 3 (ipykernel)",
   "language": "python",
   "name": "python3"
  },
  "language_info": {
   "codemirror_mode": {
    "name": "ipython",
    "version": 3
   },
   "file_extension": ".py",
   "mimetype": "text/x-python",
   "name": "python",
   "nbconvert_exporter": "python",
   "pygments_lexer": "ipython3",
   "version": "3.10.6"
  }
 },
 "nbformat": 4,
 "nbformat_minor": 5
}
