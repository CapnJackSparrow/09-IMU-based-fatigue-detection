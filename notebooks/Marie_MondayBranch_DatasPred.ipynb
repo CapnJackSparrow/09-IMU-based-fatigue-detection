{
 "cells": [
  {
   "cell_type": "code",
   "execution_count": 2,
   "metadata": {},
   "outputs": [],
   "source": [
    "%load_ext autoreload\n",
    "%autoreload 2\n",
    "import sys\n",
    "sys.path.append('../')"
   ]
  },
  {
   "cell_type": "markdown",
   "metadata": {},
   "source": [
    "# Imports "
   ]
  },
  {
   "cell_type": "code",
   "execution_count": 60,
   "metadata": {},
   "outputs": [],
   "source": [
    "### Classes\n",
    "from src.DataLoader import DataLoader\n",
    "from src.Tensor import *\n",
    "from interface.dataLoader_UI import Load_datas_pred\n",
    "from interface.dataLoader_UI import Datas_truncature\n",
    "\n",
    "import numpy as np\n",
    "import os\n",
    "import pandas as pd\n",
    "import sys\n"
   ]
  },
  {
   "cell_type": "code",
   "execution_count": null,
   "metadata": {},
   "outputs": [],
   "source": [
    "file_path = \"\\\\wsl.localhost\\Ubuntu\\home\\marie\\code\\marieyalap\\Project\\Traian_Project\\Datas\\Datas_for_pred\\test\\test\\Traian_walk_fresh\""
   ]
  },
  {
   "cell_type": "code",
   "execution_count": 1,
   "metadata": {},
   "outputs": [
    {
     "data": {
      "text/plain": [
       "'/home/marie/code/CapnJackSparrow/09-IMU-based-fatigue-detection/notebooks'"
      ]
     },
     "execution_count": 1,
     "metadata": {},
     "output_type": "execute_result"
    }
   ],
   "source": [
    "pwd"
   ]
  },
  {
   "cell_type": "code",
   "execution_count": 11,
   "metadata": {},
   "outputs": [],
   "source": [
    "csv_path = \"../../../marieyalap/Project/Traian_Project/Datas/Datas_for_pred/test/test/Traian_walk_fresh\""
   ]
  },
  {
   "cell_type": "code",
   "execution_count": 12,
   "metadata": {},
   "outputs": [
    {
     "name": "stderr",
     "output_type": "stream",
     "text": [
      "/home/marie/code/CapnJackSparrow/09-IMU-based-fatigue-detection/notebooks/../interface/dataLoader_UI.py:5: DtypeWarning: Columns (0,1,2,3,4) have mixed types. Specify dtype option on import or set low_memory=False.\n",
      "  df = pd.read_csv(f\"{csv_file_path}/Accelerometer.csv\", header=None)\n",
      "/home/marie/code/CapnJackSparrow/09-IMU-based-fatigue-detection/notebooks/../interface/dataLoader_UI.py:24: FutureWarning: The behavior of 'to_datetime' with 'unit' when parsing strings is deprecated. In a future version, strings will be parsed as datetime strings, matching the behavior without a 'unit'. To retain the old behavior, explicitly cast ints or floats to numeric type before calling to_datetime.\n",
      "  df['UNIX_time'] = pd.to_datetime(df['UNIX_time'], unit='s')\n"
     ]
    }
   ],
   "source": [
    "data_pred = Load_datas_pred(csv_path)"
   ]
  },
  {
   "cell_type": "code",
   "execution_count": 28,
   "metadata": {},
   "outputs": [
    {
     "data": {
      "text/html": [
       "<div>\n",
       "<style scoped>\n",
       "    .dataframe tbody tr th:only-of-type {\n",
       "        vertical-align: middle;\n",
       "    }\n",
       "\n",
       "    .dataframe tbody tr th {\n",
       "        vertical-align: top;\n",
       "    }\n",
       "\n",
       "    .dataframe thead th {\n",
       "        text-align: right;\n",
       "    }\n",
       "</style>\n",
       "<table border=\"1\" class=\"dataframe\">\n",
       "  <thead>\n",
       "    <tr style=\"text-align: right;\">\n",
       "      <th></th>\n",
       "      <th>Seconds_elapsed</th>\n",
       "      <th>Z_acceleration</th>\n",
       "      <th>Y_acceleration</th>\n",
       "      <th>X_acceleration</th>\n",
       "    </tr>\n",
       "    <tr>\n",
       "      <th>UNIX_time</th>\n",
       "      <th></th>\n",
       "      <th></th>\n",
       "      <th></th>\n",
       "      <th></th>\n",
       "    </tr>\n",
       "  </thead>\n",
       "  <tbody>\n",
       "    <tr>\n",
       "      <th>2024-05-26 01:32:35.625000</th>\n",
       "      <td>-3.848350</td>\n",
       "      <td>-0.051010</td>\n",
       "      <td>0.000545</td>\n",
       "      <td>0.032262</td>\n",
       "    </tr>\n",
       "    <tr>\n",
       "      <th>2024-05-26 01:32:35.656250</th>\n",
       "      <td>-3.818350</td>\n",
       "      <td>-0.032744</td>\n",
       "      <td>-0.040288</td>\n",
       "      <td>-0.002768</td>\n",
       "    </tr>\n",
       "    <tr>\n",
       "      <th>2024-05-26 01:32:35.687500</th>\n",
       "      <td>-3.788350</td>\n",
       "      <td>0.080884</td>\n",
       "      <td>-0.128668</td>\n",
       "      <td>-0.154711</td>\n",
       "    </tr>\n",
       "    <tr>\n",
       "      <th>2024-05-26 01:32:35.718750</th>\n",
       "      <td>-3.753350</td>\n",
       "      <td>-0.272538</td>\n",
       "      <td>0.050467</td>\n",
       "      <td>0.013127</td>\n",
       "    </tr>\n",
       "    <tr>\n",
       "      <th>2024-05-26 01:32:35.750000</th>\n",
       "      <td>-3.718350</td>\n",
       "      <td>-0.288374</td>\n",
       "      <td>0.045536</td>\n",
       "      <td>-0.088909</td>\n",
       "    </tr>\n",
       "    <tr>\n",
       "      <th>...</th>\n",
       "      <td>...</td>\n",
       "      <td>...</td>\n",
       "      <td>...</td>\n",
       "      <td>...</td>\n",
       "    </tr>\n",
       "    <tr>\n",
       "      <th>2024-05-26 02:12:19.812500</th>\n",
       "      <td>2380.336676</td>\n",
       "      <td>-0.579128</td>\n",
       "      <td>-0.243219</td>\n",
       "      <td>-1.272636</td>\n",
       "    </tr>\n",
       "    <tr>\n",
       "      <th>2024-05-26 02:12:19.843750</th>\n",
       "      <td>2380.371589</td>\n",
       "      <td>0.125345</td>\n",
       "      <td>-0.725636</td>\n",
       "      <td>-0.573263</td>\n",
       "    </tr>\n",
       "    <tr>\n",
       "      <th>2024-05-26 02:12:19.875000</th>\n",
       "      <td>2380.406504</td>\n",
       "      <td>-0.398860</td>\n",
       "      <td>-1.167349</td>\n",
       "      <td>0.024975</td>\n",
       "    </tr>\n",
       "    <tr>\n",
       "      <th>2024-05-26 02:12:19.906250</th>\n",
       "      <td>2380.436425</td>\n",
       "      <td>-2.212759</td>\n",
       "      <td>-1.008960</td>\n",
       "      <td>-0.434320</td>\n",
       "    </tr>\n",
       "    <tr>\n",
       "      <th>2024-05-26 02:12:19.937500</th>\n",
       "      <td>2380.466345</td>\n",
       "      <td>-2.793820</td>\n",
       "      <td>-0.674076</td>\n",
       "      <td>-0.065164</td>\n",
       "    </tr>\n",
       "  </tbody>\n",
       "</table>\n",
       "<p>76299 rows × 4 columns</p>\n",
       "</div>"
      ],
      "text/plain": [
       "                            Seconds_elapsed  Z_acceleration  Y_acceleration  \\\n",
       "UNIX_time                                                                     \n",
       "2024-05-26 01:32:35.625000        -3.848350       -0.051010        0.000545   \n",
       "2024-05-26 01:32:35.656250        -3.818350       -0.032744       -0.040288   \n",
       "2024-05-26 01:32:35.687500        -3.788350        0.080884       -0.128668   \n",
       "2024-05-26 01:32:35.718750        -3.753350       -0.272538        0.050467   \n",
       "2024-05-26 01:32:35.750000        -3.718350       -0.288374        0.045536   \n",
       "...                                     ...             ...             ...   \n",
       "2024-05-26 02:12:19.812500      2380.336676       -0.579128       -0.243219   \n",
       "2024-05-26 02:12:19.843750      2380.371589        0.125345       -0.725636   \n",
       "2024-05-26 02:12:19.875000      2380.406504       -0.398860       -1.167349   \n",
       "2024-05-26 02:12:19.906250      2380.436425       -2.212759       -1.008960   \n",
       "2024-05-26 02:12:19.937500      2380.466345       -2.793820       -0.674076   \n",
       "\n",
       "                            X_acceleration  \n",
       "UNIX_time                                   \n",
       "2024-05-26 01:32:35.625000        0.032262  \n",
       "2024-05-26 01:32:35.656250       -0.002768  \n",
       "2024-05-26 01:32:35.687500       -0.154711  \n",
       "2024-05-26 01:32:35.718750        0.013127  \n",
       "2024-05-26 01:32:35.750000       -0.088909  \n",
       "...                                    ...  \n",
       "2024-05-26 02:12:19.812500       -1.272636  \n",
       "2024-05-26 02:12:19.843750       -0.573263  \n",
       "2024-05-26 02:12:19.875000        0.024975  \n",
       "2024-05-26 02:12:19.906250       -0.434320  \n",
       "2024-05-26 02:12:19.937500       -0.065164  \n",
       "\n",
       "[76299 rows x 4 columns]"
      ]
     },
     "execution_count": 28,
     "metadata": {},
     "output_type": "execute_result"
    }
   ],
   "source": [
    "data_pred"
   ]
  },
  {
   "cell_type": "code",
   "execution_count": null,
   "metadata": {},
   "outputs": [],
   "source": [
    "### 1) changing the order of columns => X, Y,Z => same names as the one from Data Loader\n",
    "### 2) Find the middle and the number of lines in the datasets\n",
    "### 3) truncatenate the datas in order to have 90 sec"
   ]
  },
  {
   "cell_type": "code",
   "execution_count": 20,
   "metadata": {},
   "outputs": [
    {
     "data": {
      "text/plain": [
       "['Seconds_elapsed', 'Z_acceleration', 'Y_acceleration', 'X_acceleration']"
      ]
     },
     "execution_count": 20,
     "metadata": {},
     "output_type": "execute_result"
    }
   ],
   "source": [
    "#  df = df[cols]\n",
    "\n",
    "#  cols = cols[-1:] + cols[:-1]\n",
    "\n",
    "cols = data_pred.columns.tolist()\n",
    "cols"
   ]
  },
  {
   "cell_type": "code",
   "execution_count": 35,
   "metadata": {},
   "outputs": [
    {
     "data": {
      "text/html": [
       "<div>\n",
       "<style scoped>\n",
       "    .dataframe tbody tr th:only-of-type {\n",
       "        vertical-align: middle;\n",
       "    }\n",
       "\n",
       "    .dataframe tbody tr th {\n",
       "        vertical-align: top;\n",
       "    }\n",
       "\n",
       "    .dataframe thead th {\n",
       "        text-align: right;\n",
       "    }\n",
       "</style>\n",
       "<table border=\"1\" class=\"dataframe\">\n",
       "  <thead>\n",
       "    <tr style=\"text-align: right;\">\n",
       "      <th></th>\n",
       "      <th>X_acceleration</th>\n",
       "      <th>Y_acceleration</th>\n",
       "      <th>Z_acceleration</th>\n",
       "    </tr>\n",
       "    <tr>\n",
       "      <th>UNIX_time</th>\n",
       "      <th></th>\n",
       "      <th></th>\n",
       "      <th></th>\n",
       "    </tr>\n",
       "  </thead>\n",
       "  <tbody>\n",
       "    <tr>\n",
       "      <th>2024-05-26 01:32:35.625000</th>\n",
       "      <td>0.032262</td>\n",
       "      <td>0.000545</td>\n",
       "      <td>-0.051010</td>\n",
       "    </tr>\n",
       "    <tr>\n",
       "      <th>2024-05-26 01:32:35.656250</th>\n",
       "      <td>-0.002768</td>\n",
       "      <td>-0.040288</td>\n",
       "      <td>-0.032744</td>\n",
       "    </tr>\n",
       "    <tr>\n",
       "      <th>2024-05-26 01:32:35.687500</th>\n",
       "      <td>-0.154711</td>\n",
       "      <td>-0.128668</td>\n",
       "      <td>0.080884</td>\n",
       "    </tr>\n",
       "    <tr>\n",
       "      <th>2024-05-26 01:32:35.718750</th>\n",
       "      <td>0.013127</td>\n",
       "      <td>0.050467</td>\n",
       "      <td>-0.272538</td>\n",
       "    </tr>\n",
       "    <tr>\n",
       "      <th>2024-05-26 01:32:35.750000</th>\n",
       "      <td>-0.088909</td>\n",
       "      <td>0.045536</td>\n",
       "      <td>-0.288374</td>\n",
       "    </tr>\n",
       "    <tr>\n",
       "      <th>...</th>\n",
       "      <td>...</td>\n",
       "      <td>...</td>\n",
       "      <td>...</td>\n",
       "    </tr>\n",
       "    <tr>\n",
       "      <th>2024-05-26 02:12:19.812500</th>\n",
       "      <td>-1.272636</td>\n",
       "      <td>-0.243219</td>\n",
       "      <td>-0.579128</td>\n",
       "    </tr>\n",
       "    <tr>\n",
       "      <th>2024-05-26 02:12:19.843750</th>\n",
       "      <td>-0.573263</td>\n",
       "      <td>-0.725636</td>\n",
       "      <td>0.125345</td>\n",
       "    </tr>\n",
       "    <tr>\n",
       "      <th>2024-05-26 02:12:19.875000</th>\n",
       "      <td>0.024975</td>\n",
       "      <td>-1.167349</td>\n",
       "      <td>-0.398860</td>\n",
       "    </tr>\n",
       "    <tr>\n",
       "      <th>2024-05-26 02:12:19.906250</th>\n",
       "      <td>-0.434320</td>\n",
       "      <td>-1.008960</td>\n",
       "      <td>-2.212759</td>\n",
       "    </tr>\n",
       "    <tr>\n",
       "      <th>2024-05-26 02:12:19.937500</th>\n",
       "      <td>-0.065164</td>\n",
       "      <td>-0.674076</td>\n",
       "      <td>-2.793820</td>\n",
       "    </tr>\n",
       "  </tbody>\n",
       "</table>\n",
       "<p>76299 rows × 3 columns</p>\n",
       "</div>"
      ],
      "text/plain": [
       "                            X_acceleration  Y_acceleration  Z_acceleration\n",
       "UNIX_time                                                                 \n",
       "2024-05-26 01:32:35.625000        0.032262        0.000545       -0.051010\n",
       "2024-05-26 01:32:35.656250       -0.002768       -0.040288       -0.032744\n",
       "2024-05-26 01:32:35.687500       -0.154711       -0.128668        0.080884\n",
       "2024-05-26 01:32:35.718750        0.013127        0.050467       -0.272538\n",
       "2024-05-26 01:32:35.750000       -0.088909        0.045536       -0.288374\n",
       "...                                    ...             ...             ...\n",
       "2024-05-26 02:12:19.812500       -1.272636       -0.243219       -0.579128\n",
       "2024-05-26 02:12:19.843750       -0.573263       -0.725636        0.125345\n",
       "2024-05-26 02:12:19.875000        0.024975       -1.167349       -0.398860\n",
       "2024-05-26 02:12:19.906250       -0.434320       -1.008960       -2.212759\n",
       "2024-05-26 02:12:19.937500       -0.065164       -0.674076       -2.793820\n",
       "\n",
       "[76299 rows x 3 columns]"
      ]
     },
     "execution_count": 35,
     "metadata": {},
     "output_type": "execute_result"
    }
   ],
   "source": [
    "### 1) changing the order of columns => X, Y,Z => same names as the one from Data Loader\n",
    "\n",
    "datas_pred_ordered = data_pred[[\"X_acceleration\",\"Y_acceleration\",\"Z_acceleration\"]]\n",
    "datas_pred_ordered"
   ]
  },
  {
   "cell_type": "code",
   "execution_count": 39,
   "metadata": {},
   "outputs": [
    {
     "data": {
      "text/plain": [
       "76299"
      ]
     },
     "execution_count": 39,
     "metadata": {},
     "output_type": "execute_result"
    }
   ],
   "source": [
    "### 2) Find the middle and the number of lines in the datasets\n",
    "len_datas = datas_pred_ordered.shape[0]\n",
    "len_datas"
   ]
  },
  {
   "cell_type": "code",
   "execution_count": 48,
   "metadata": {},
   "outputs": [
    {
     "data": {
      "text/plain": [
       "38150.0"
      ]
     },
     "execution_count": 48,
     "metadata": {},
     "output_type": "execute_result"
    }
   ],
   "source": [
    "time_laps = 90\n",
    "nb_event_time_laps = 32*time_laps\n",
    "nb_event_time_laps\n",
    "middle_target_time = np.round(len_datas/2)\n",
    "middle_target_time"
   ]
  },
  {
   "cell_type": "code",
   "execution_count": 56,
   "metadata": {},
   "outputs": [
    {
     "data": {
      "text/plain": [
       "36710"
      ]
     },
     "execution_count": 56,
     "metadata": {},
     "output_type": "execute_result"
    }
   ],
   "source": [
    "begin_index_truncated = int(middle_target_time - (nb_event_time_laps/2))\n",
    "begin_index_truncated"
   ]
  },
  {
   "cell_type": "code",
   "execution_count": 55,
   "metadata": {},
   "outputs": [
    {
     "data": {
      "text/plain": [
       "39590"
      ]
     },
     "execution_count": 55,
     "metadata": {},
     "output_type": "execute_result"
    }
   ],
   "source": [
    "end_index_truncated = int(middle_target_time + (nb_event_time_laps/2))\n",
    "end_index_truncated"
   ]
  },
  {
   "cell_type": "code",
   "execution_count": 53,
   "metadata": {},
   "outputs": [
    {
     "data": {
      "text/plain": [
       "True"
      ]
     },
     "execution_count": 53,
     "metadata": {},
     "output_type": "execute_result"
    }
   ],
   "source": [
    "## verification :\n",
    "end_index_truncated - begin_index_truncated == nb_event_time_laps"
   ]
  },
  {
   "cell_type": "code",
   "execution_count": 47,
   "metadata": {},
   "outputs": [
    {
     "data": {
      "text/plain": [
       "2880"
      ]
     },
     "execution_count": 47,
     "metadata": {},
     "output_type": "execute_result"
    }
   ],
   "source": [
    "nb_event_time_laps"
   ]
  },
  {
   "cell_type": "code",
   "execution_count": null,
   "metadata": {},
   "outputs": [],
   "source": [
    "### 3) truncatenate the datas in order to have 90 sec"
   ]
  },
  {
   "cell_type": "code",
   "execution_count": 59,
   "metadata": {},
   "outputs": [
    {
     "data": {
      "text/html": [
       "<div>\n",
       "<style scoped>\n",
       "    .dataframe tbody tr th:only-of-type {\n",
       "        vertical-align: middle;\n",
       "    }\n",
       "\n",
       "    .dataframe tbody tr th {\n",
       "        vertical-align: top;\n",
       "    }\n",
       "\n",
       "    .dataframe thead th {\n",
       "        text-align: right;\n",
       "    }\n",
       "</style>\n",
       "<table border=\"1\" class=\"dataframe\">\n",
       "  <thead>\n",
       "    <tr style=\"text-align: right;\">\n",
       "      <th></th>\n",
       "      <th>X_acceleration</th>\n",
       "      <th>Y_acceleration</th>\n",
       "      <th>Z_acceleration</th>\n",
       "    </tr>\n",
       "    <tr>\n",
       "      <th>UNIX_time</th>\n",
       "      <th></th>\n",
       "      <th></th>\n",
       "      <th></th>\n",
       "    </tr>\n",
       "  </thead>\n",
       "  <tbody>\n",
       "    <tr>\n",
       "      <th>2024-05-26 01:51:42.812500</th>\n",
       "      <td>0.180846</td>\n",
       "      <td>-1.581176</td>\n",
       "      <td>-0.194265</td>\n",
       "    </tr>\n",
       "    <tr>\n",
       "      <th>2024-05-26 01:51:42.843750</th>\n",
       "      <td>0.352007</td>\n",
       "      <td>-2.538964</td>\n",
       "      <td>-0.464634</td>\n",
       "    </tr>\n",
       "    <tr>\n",
       "      <th>2024-05-26 01:51:42.875000</th>\n",
       "      <td>0.453938</td>\n",
       "      <td>-3.033417</td>\n",
       "      <td>-0.205182</td>\n",
       "    </tr>\n",
       "    <tr>\n",
       "      <th>2024-05-26 01:51:42.906250</th>\n",
       "      <td>0.449854</td>\n",
       "      <td>-3.368692</td>\n",
       "      <td>0.028456</td>\n",
       "    </tr>\n",
       "    <tr>\n",
       "      <th>2024-05-26 01:51:42.937500</th>\n",
       "      <td>0.352493</td>\n",
       "      <td>-3.132666</td>\n",
       "      <td>0.295715</td>\n",
       "    </tr>\n",
       "    <tr>\n",
       "      <th>...</th>\n",
       "      <td>...</td>\n",
       "      <td>...</td>\n",
       "      <td>...</td>\n",
       "    </tr>\n",
       "    <tr>\n",
       "      <th>2024-05-26 01:53:12.656250</th>\n",
       "      <td>0.105730</td>\n",
       "      <td>-0.115864</td>\n",
       "      <td>1.141715</td>\n",
       "    </tr>\n",
       "    <tr>\n",
       "      <th>2024-05-26 01:53:12.687500</th>\n",
       "      <td>0.181555</td>\n",
       "      <td>3.696345</td>\n",
       "      <td>1.003456</td>\n",
       "    </tr>\n",
       "    <tr>\n",
       "      <th>2024-05-26 01:53:12.718750</th>\n",
       "      <td>-0.664856</td>\n",
       "      <td>6.125153</td>\n",
       "      <td>1.758174</td>\n",
       "    </tr>\n",
       "    <tr>\n",
       "      <th>2024-05-26 01:53:12.750000</th>\n",
       "      <td>-1.701686</td>\n",
       "      <td>5.601363</td>\n",
       "      <td>0.637106</td>\n",
       "    </tr>\n",
       "    <tr>\n",
       "      <th>2024-05-26 01:53:12.781250</th>\n",
       "      <td>-1.141319</td>\n",
       "      <td>3.565722</td>\n",
       "      <td>-0.291432</td>\n",
       "    </tr>\n",
       "  </tbody>\n",
       "</table>\n",
       "<p>2880 rows × 3 columns</p>\n",
       "</div>"
      ],
      "text/plain": [
       "                            X_acceleration  Y_acceleration  Z_acceleration\n",
       "UNIX_time                                                                 \n",
       "2024-05-26 01:51:42.812500        0.180846       -1.581176       -0.194265\n",
       "2024-05-26 01:51:42.843750        0.352007       -2.538964       -0.464634\n",
       "2024-05-26 01:51:42.875000        0.453938       -3.033417       -0.205182\n",
       "2024-05-26 01:51:42.906250        0.449854       -3.368692        0.028456\n",
       "2024-05-26 01:51:42.937500        0.352493       -3.132666        0.295715\n",
       "...                                    ...             ...             ...\n",
       "2024-05-26 01:53:12.656250        0.105730       -0.115864        1.141715\n",
       "2024-05-26 01:53:12.687500        0.181555        3.696345        1.003456\n",
       "2024-05-26 01:53:12.718750       -0.664856        6.125153        1.758174\n",
       "2024-05-26 01:53:12.750000       -1.701686        5.601363        0.637106\n",
       "2024-05-26 01:53:12.781250       -1.141319        3.565722       -0.291432\n",
       "\n",
       "[2880 rows x 3 columns]"
      ]
     },
     "execution_count": 59,
     "metadata": {},
     "output_type": "execute_result"
    }
   ],
   "source": [
    "df_pred_truncated = datas_pred_ordered.iloc[begin_index_truncated:end_index_truncated,:]\n",
    "df_pred_truncated"
   ]
  },
  {
   "cell_type": "code",
   "execution_count": 63,
   "metadata": {},
   "outputs": [
    {
     "name": "stderr",
     "output_type": "stream",
     "text": [
      "/home/marie/code/CapnJackSparrow/09-IMU-based-fatigue-detection/notebooks/../interface/dataLoader_UI.py:6: DtypeWarning: Columns (0,1,2,3,4) have mixed types. Specify dtype option on import or set low_memory=False.\n",
      "  # Remove the first row (index 0)\n",
      "/home/marie/code/CapnJackSparrow/09-IMU-based-fatigue-detection/notebooks/../interface/dataLoader_UI.py:25: FutureWarning: The behavior of 'to_datetime' with 'unit' when parsing strings is deprecated. In a future version, strings will be parsed as datetime strings, matching the behavior without a 'unit'. To retain the old behavior, explicitly cast ints or floats to numeric type before calling to_datetime.\n",
      "  # Set the unix time as dataframe index\n"
     ]
    },
    {
     "data": {
      "text/html": [
       "<div>\n",
       "<style scoped>\n",
       "    .dataframe tbody tr th:only-of-type {\n",
       "        vertical-align: middle;\n",
       "    }\n",
       "\n",
       "    .dataframe tbody tr th {\n",
       "        vertical-align: top;\n",
       "    }\n",
       "\n",
       "    .dataframe thead th {\n",
       "        text-align: right;\n",
       "    }\n",
       "</style>\n",
       "<table border=\"1\" class=\"dataframe\">\n",
       "  <thead>\n",
       "    <tr style=\"text-align: right;\">\n",
       "      <th></th>\n",
       "      <th>X_acceleration</th>\n",
       "      <th>Y_acceleration</th>\n",
       "      <th>Z_acceleration</th>\n",
       "    </tr>\n",
       "    <tr>\n",
       "      <th>UNIX_time</th>\n",
       "      <th></th>\n",
       "      <th></th>\n",
       "      <th></th>\n",
       "    </tr>\n",
       "  </thead>\n",
       "  <tbody>\n",
       "    <tr>\n",
       "      <th>2024-05-26 01:51:42.812500</th>\n",
       "      <td>0.180846</td>\n",
       "      <td>-1.581176</td>\n",
       "      <td>-0.194265</td>\n",
       "    </tr>\n",
       "    <tr>\n",
       "      <th>2024-05-26 01:51:42.843750</th>\n",
       "      <td>0.352007</td>\n",
       "      <td>-2.538964</td>\n",
       "      <td>-0.464634</td>\n",
       "    </tr>\n",
       "    <tr>\n",
       "      <th>2024-05-26 01:51:42.875000</th>\n",
       "      <td>0.453938</td>\n",
       "      <td>-3.033417</td>\n",
       "      <td>-0.205182</td>\n",
       "    </tr>\n",
       "    <tr>\n",
       "      <th>2024-05-26 01:51:42.906250</th>\n",
       "      <td>0.449854</td>\n",
       "      <td>-3.368692</td>\n",
       "      <td>0.028456</td>\n",
       "    </tr>\n",
       "    <tr>\n",
       "      <th>2024-05-26 01:51:42.937500</th>\n",
       "      <td>0.352493</td>\n",
       "      <td>-3.132666</td>\n",
       "      <td>0.295715</td>\n",
       "    </tr>\n",
       "    <tr>\n",
       "      <th>...</th>\n",
       "      <td>...</td>\n",
       "      <td>...</td>\n",
       "      <td>...</td>\n",
       "    </tr>\n",
       "    <tr>\n",
       "      <th>2024-05-26 01:53:12.656250</th>\n",
       "      <td>0.105730</td>\n",
       "      <td>-0.115864</td>\n",
       "      <td>1.141715</td>\n",
       "    </tr>\n",
       "    <tr>\n",
       "      <th>2024-05-26 01:53:12.687500</th>\n",
       "      <td>0.181555</td>\n",
       "      <td>3.696345</td>\n",
       "      <td>1.003456</td>\n",
       "    </tr>\n",
       "    <tr>\n",
       "      <th>2024-05-26 01:53:12.718750</th>\n",
       "      <td>-0.664856</td>\n",
       "      <td>6.125153</td>\n",
       "      <td>1.758174</td>\n",
       "    </tr>\n",
       "    <tr>\n",
       "      <th>2024-05-26 01:53:12.750000</th>\n",
       "      <td>-1.701686</td>\n",
       "      <td>5.601363</td>\n",
       "      <td>0.637106</td>\n",
       "    </tr>\n",
       "    <tr>\n",
       "      <th>2024-05-26 01:53:12.781250</th>\n",
       "      <td>-1.141319</td>\n",
       "      <td>3.565722</td>\n",
       "      <td>-0.291432</td>\n",
       "    </tr>\n",
       "  </tbody>\n",
       "</table>\n",
       "<p>2880 rows × 3 columns</p>\n",
       "</div>"
      ],
      "text/plain": [
       "                            X_acceleration  Y_acceleration  Z_acceleration\n",
       "UNIX_time                                                                 \n",
       "2024-05-26 01:51:42.812500        0.180846       -1.581176       -0.194265\n",
       "2024-05-26 01:51:42.843750        0.352007       -2.538964       -0.464634\n",
       "2024-05-26 01:51:42.875000        0.453938       -3.033417       -0.205182\n",
       "2024-05-26 01:51:42.906250        0.449854       -3.368692        0.028456\n",
       "2024-05-26 01:51:42.937500        0.352493       -3.132666        0.295715\n",
       "...                                    ...             ...             ...\n",
       "2024-05-26 01:53:12.656250        0.105730       -0.115864        1.141715\n",
       "2024-05-26 01:53:12.687500        0.181555        3.696345        1.003456\n",
       "2024-05-26 01:53:12.718750       -0.664856        6.125153        1.758174\n",
       "2024-05-26 01:53:12.750000       -1.701686        5.601363        0.637106\n",
       "2024-05-26 01:53:12.781250       -1.141319        3.565722       -0.291432\n",
       "\n",
       "[2880 rows x 3 columns]"
      ]
     },
     "execution_count": 63,
     "metadata": {},
     "output_type": "execute_result"
    }
   ],
   "source": [
    "## Test the function :\n",
    "data_pred = Datas_truncature(Load_datas_pred(csv_path),90)\n",
    "data_pred"
   ]
  }
 ],
 "metadata": {
  "kernelspec": {
   "display_name": "walkies",
   "language": "python",
   "name": "python3"
  },
  "language_info": {
   "codemirror_mode": {
    "name": "ipython",
    "version": 3
   },
   "file_extension": ".py",
   "mimetype": "text/x-python",
   "name": "python",
   "nbconvert_exporter": "python",
   "pygments_lexer": "ipython3",
   "version": "3.10.6"
  }
 },
 "nbformat": 4,
 "nbformat_minor": 2
}
